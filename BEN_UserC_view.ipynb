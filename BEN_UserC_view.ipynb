{
 "cells": [
  {
   "cell_type": "code",
   "execution_count": null,
   "metadata": {},
   "outputs": [],
   "source": [
    "from web3 import Web3, HTTPProvider\n",
    "from client import Client\n",
    "\n",
    "\n",
    "web3 = Web3(HTTPProvider('http://localhost:8545'))\n",
    "assert web3.isConnected()"
   ]
  },
  {
   "cell_type": "code",
   "execution_count": null,
   "metadata": {},
   "outputs": [],
   "source": [
    "with open('delegator_addr', 'r') as d:\n",
    "    DELEGATOR_ADDRESS = d.read()\n",
    "    d.close\n",
    "\n",
    "clientC = Client(2, web3, delegatorAddress=DELEGATOR_ADDRESS)\n",
    "clientC.get_money()\n",
    "\n",
    "with open('client_addr_C', 'w') as c:\n",
    "    c.write(clientC.clientAddress)\n",
    "    c.close"
   ]
  },
  {
   "cell_type": "code",
   "execution_count": null,
   "metadata": {},
   "outputs": [],
   "source": [
    "print(clientC.main())"
   ]
  }
 ],
 "metadata": {
  "kernelspec": {
   "display_name": "Python 3",
   "language": "python",
   "name": "python3"
  },
  "language_info": {
   "codemirror_mode": {
    "name": "ipython",
    "version": 3
   },
   "file_extension": ".py",
   "mimetype": "text/x-python",
   "name": "python",
   "nbconvert_exporter": "python",
   "pygments_lexer": "ipython3",
   "version": "3.6.4"
  }
 },
 "nbformat": 4,
 "nbformat_minor": 2
}

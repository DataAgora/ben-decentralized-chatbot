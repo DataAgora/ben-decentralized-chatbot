{
 "cells": [
  {
   "cell_type": "code",
   "execution_count": 9,
   "metadata": {},
   "outputs": [
    {
     "name": "stdout",
     "output_type": "stream",
     "text": [
      "Client Address: 0xf6419f5c5295a70C702aC21aF0f64Be07B59F3c4\n",
      "Client balance: 16701980580770522503\n"
     ]
    }
   ],
   "source": [
    "from web3 import Web3, HTTPProvider, IPCProvider\n",
    "from client import Client\n",
    "\n",
    "\n",
    "# On web3 console:\n",
    "# web3.personal.importRawKey('146396092a127e4cf6ff3872be35d49228c7dc297cf34da5a0808f29cf307da1', 'panda')\n",
    "\n",
    "# web3 = Web3(HTTPProvider('http://127.0.0.1:8545'))\n",
    "# web3 = Web3(IPCProvider('/Users/nick/Library/Ethereum/testnet/geth.ipc'))\n",
    "# web3_infura = Web3(HTTPProvider('https://ropsten.infura.io/c5lVIUAGmJ7HIW2QwM3J'))\n",
    "\n",
    "web3 = Web3(HTTPProvider('http://54.153.99.89:8545'))\n",
    "assert web3.isConnected()\n",
    "\n",
    "MY_ADDRESS = '0xf6419f5c5295a70C702aC21aF0f64Be07B59F3c4'\n",
    "DELEGATOR_CONTRACT = '0xc130f4A41759c55aC60b1Fb619f45A88E7c0abD8'\n",
    "CLIENT_ADDRESS = '0xB038C505907F3ba28E65c46d7fEE07077AEc55b8'\n",
    "\n",
    "clientA = Client(0, web3, clientAddress=MY_ADDRESS, delegatorAddress=DELEGATOR_CONTRACT)\n",
    "\n",
    "clientA.get_money()"
   ]
  },
  {
   "cell_type": "code",
   "execution_count": null,
   "metadata": {},
   "outputs": [],
   "source": [
    "clientA.launch_query(CLIENT_ADDRESS)"
   ]
  },
  {
   "cell_type": "code",
   "execution_count": null,
   "metadata": {},
   "outputs": [],
   "source": [
    "clientA.ping_client()"
   ]
  },
  {
   "cell_type": "code",
   "execution_count": null,
   "metadata": {},
   "outputs": [],
   "source": []
  }
 ],
 "metadata": {
  "kernelspec": {
   "display_name": "Python 3",
   "language": "python",
   "name": "python3"
  },
  "language_info": {
   "codemirror_mode": {
    "name": "ipython",
    "version": 3
   },
   "file_extension": ".py",
   "mimetype": "text/x-python",
   "name": "python",
   "nbconvert_exporter": "python",
   "pygments_lexer": "ipython3",
   "version": "3.6.5"
  }
 },
 "nbformat": 4,
 "nbformat_minor": 2
}
